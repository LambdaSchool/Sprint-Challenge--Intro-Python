{
  "nbformat": 4,
  "nbformat_minor": 0,
  "metadata": {
    "colab": {
      "name": "sprint_scrapwork_cs1_2.ipynb",
      "provenance": []
    },
    "kernelspec": {
      "name": "python3",
      "display_name": "Python 3"
    }
  },
  "cells": [
    {
      "cell_type": "code",
      "metadata": {
        "id": "9SR95rus7wwg",
        "colab_type": "code",
        "colab": {}
      },
      "source": [
        "# do best to not lose purpose again\n",
        "# arrogant uses of time\n",
        "\n",
        "#slight of hand\n",
        "#adhere to the transient goals first \n",
        "# and let the end goals follow\n"
      ],
      "execution_count": 0,
      "outputs": []
    },
    {
      "cell_type": "markdown",
      "metadata": {
        "id": "8M5ZlbJ_-Ce6",
        "colab_type": "text"
      },
      "source": [
        ""
      ]
    },
    {
      "cell_type": "code",
      "metadata": {
        "id": "f_VzetTlBSB2",
        "colab_type": "code",
        "colab": {}
      },
      "source": [
        "\n",
        "class GroundVehicle():\n",
        "    def __init__(self, num_wheels, drive):\n",
        "        self.num_wheels = num_wheels\n",
        "        self.drive = drive\n",
        "#    @vroooommethod\n",
        "    def drive(self):\n",
        "        return (\"vroooom\")"
      ],
      "execution_count": 0,
      "outputs": []
    },
    {
      "cell_type": "code",
      "metadata": {
        "id": "vmKyKek6BgR8",
        "colab_type": "code",
        "colab": {}
      },
      "source": [
        "\n",
        "\n",
        "class Motorcycle(GroundVehicle):\n",
        "    def __init__(self,num_wheels, drive):\n",
        "        super().__init__(num_wheels, drive)\n",
        "        self.num_wheels = num_wheels\n",
        "        self.drive = drive\n"
      ],
      "execution_count": 0,
      "outputs": []
    },
    {
      "cell_type": "code",
      "metadata": {
        "id": "mLbvJ9TiCOjA",
        "colab_type": "code",
        "colab": {
          "base_uri": "https://localhost:8080/",
          "height": 52
        },
        "outputId": "83cdded4-4917-490e-bb0f-00cb266eeb7c"
      },
      "source": [
        "bike = Motorcycle(2, \"BRAAAP!!\")\n",
        "print(bike.num_wheels)\n",
        "print(bike.drive)\n"
      ],
      "execution_count": 5,
      "outputs": [
        {
          "output_type": "stream",
          "text": [
            "2\n",
            "BRAAAP!!\n"
          ],
          "name": "stdout"
        }
      ]
    },
    {
      "cell_type": "code",
      "metadata": {
        "id": "DeQjWhj1Cp_V",
        "colab_type": "code",
        "colab": {}
      },
      "source": [
        "\n",
        "\n",
        "\n",
        "\n",
        "# Subclass Motorcycle from GroundVehicle.\n",
        "#\n",
        "# Make it so when you instantiate a Motorcycle, it automatically sets the number\n",
        "# of wheels to 2 by passing that to the constructor of its superclass.\n",
        "#\n",
        "# Override the drive() method in Motorcycle so that it returns \"BRAAAP!!\"\n",
        "\n",
        "# TODO\n",
        "\n",
        "vehicles = [\n",
        "    GroundVehicle(),\n",
        "    GroundVehicle(),\n",
        "    Motorcycle(),\n",
        "    GroundVehicle(),\n",
        "    Motorcycle(),\n",
        "]\n",
        "\n",
        "# Go through the vehicles list and print the result of calling drive() on each.\n",
        "\n",
        "# TODO\n"
      ],
      "execution_count": 0,
      "outputs": []
    },
    {
      "cell_type": "code",
      "metadata": {
        "id": "fmYIJSNaJyGX",
        "colab_type": "code",
        "colab": {}
      },
      "source": [
        "import CSV\n",
        "With open(‘some.csv’, ‘rb’) as f:\n",
        "reader = csv.reader(f)\n",
        "for row in reader:\n",
        "print row"
      ],
      "execution_count": 0,
      "outputs": []
    },
    {
      "cell_type": "code",
      "metadata": {
        "id": "91lXy32mJ1Ah",
        "colab_type": "code",
        "colab": {}
      },
      "source": [
        "# Create a class to hold a city location. Call the class \"City\". It should have\n",
        "# fields for name, lat and lon (representing latitude and longitude).\n",
        "\n",
        "\n",
        "# We have a collection of US cities with population over 750,000 stored in the\n",
        "# file \"cities.csv\". (CSV stands for \"comma-separated values\".)\n",
        "#\n",
        "# In the body of the `cityreader` function, use Python's built-in \"csv\" module \n",
        "# to read this file so that each record is imported into a City instance. Then\n",
        "# return the list with all the City instances from the function.\n",
        "# Google \"python 3 csv\" for references and use your Google-fu for other examples.\n",
        "#\n",
        "# Store the instances in the \"cities\" list, below.\n",
        "#\n",
        "# Note that the first line of the CSV is header that describes the fields--this\n",
        "# should not be loaded into a City object.\n",
        "cities = []\n",
        "\n",
        "def cityreader(cities=[]):\n",
        "  # TODO Implement the functionality to read from the 'cities.csv' file\n",
        "  # For each city record, create a new City instance and add it to the \n",
        "  # `cities` list\n",
        "    \n",
        "    return cities\n",
        "\n",
        "cityreader(cities)"
      ],
      "execution_count": 0,
      "outputs": []
    },
    {
      "cell_type": "code",
      "metadata": {
        "id": "mGmBZNIJELq-",
        "colab_type": "code",
        "colab": {}
      },
      "source": [
        "\n",
        "\n",
        "# Print the list of cities (name, lat, lon), 1 record per line.\n",
        "for c in cities:\n",
        "    print(c)\n",
        "\n",
        "# STRETCH GOAL!\n",
        "#\n",
        "# Allow the user to input two points, each specified by latitude and longitude.\n",
        "# These points form the corners of a lat/lon square. Pass these latitude and \n",
        "# longitude values as parameters to the `cityreader_stretch` function, along\n",
        "# with the `cities` list that holds all the City instances from the `cityreader`\n",
        "# function. This function should output all the cities that fall within the \n",
        "# coordinate square.\n",
        "#\n",
        "# Be aware that the user could specify either a lower-left/upper-right pair of\n",
        "# coordinates, or an upper-left/lower-right pair of coordinates. Hint: normalize\n",
        "# the input data so that it's always one or the other, then search for cities.\n",
        "# In the example below, inputting 32, -120 first and then 45, -100 should not\n",
        "# change the results of what the `cityreader_stretch` function returns.\n",
        "#\n",
        "# Example I/O:\n",
        "#\n",
        "# Enter lat1,lon1: 45,-100\n",
        "# Enter lat2,lon2: 32,-120\n",
        "# Albuquerque: (35.1055,-106.6476)\n",
        "# Riverside: (33.9382,-117.3949)\n",
        "# San Diego: (32.8312,-117.1225)\n",
        "# Los Angeles: (34.114,-118.4068)\n",
        "# Las Vegas: (36.2288,-115.2603)\n",
        "# Denver: (39.7621,-104.8759)\n",
        "# Phoenix: (33.5722,-112.0891)\n",
        "# Tucson: (32.1558,-110.8777)\n",
        "# Salt Lake City: (40.7774,-111.9301)\n",
        "\n",
        "# TODO Get latitude and longitude values from the user\n",
        "\n",
        "def cityreader_stretch(lat1, lon1, lat2, lon2, cities=[]):\n",
        "  # within will hold the cities that fall within the specified region\n",
        "  within = []\n",
        "\n",
        "  # TODO Ensure that the lat and lon valuse are all floats\n",
        "  # Go through each city and check to see if it falls within \n",
        "  # the specified coordinates.\n",
        "\n",
        "  return within"
      ],
      "execution_count": 0,
      "outputs": []
    },
    {
      "cell_type": "code",
      "metadata": {
        "id": "2l8eVkdwI9ax",
        "colab_type": "code",
        "colab": {}
      },
      "source": [
        ""
      ],
      "execution_count": 0,
      "outputs": []
    },
    {
      "cell_type": "code",
      "metadata": {
        "id": "pFqsFyRGJHEg",
        "colab_type": "code",
        "colab": {}
      },
      "source": [
        "class City():\n",
        "    def __init__(self,name, lat, lon):\n",
        "        self.name = name\n",
        "        self.lat = lat\n",
        "        self.lon = lon\n",
        "        "
      ],
      "execution_count": 0,
      "outputs": []
    },
    {
      "cell_type": "code",
      "metadata": {
        "id": "JHMb0dlaJIR6",
        "colab_type": "code",
        "colab": {
          "base_uri": "https://localhost:8080/",
          "height": 69
        },
        "outputId": "e8ec7031-0545-4a22-fe42-1c5b7516c296"
      },
      "source": [
        "\n",
        "a_city = City('name', 23,35)\n",
        "print(a_city.name)\n",
        "print(a_city.lat)\n",
        "print(a_city.lon)"
      ],
      "execution_count": 9,
      "outputs": [
        {
          "output_type": "stream",
          "text": [
            "name\n",
            "23\n",
            "35\n"
          ],
          "name": "stdout"
        }
      ]
    },
    {
      "cell_type": "code",
      "metadata": {
        "id": "Yf7IY54KJKbB",
        "colab_type": "code",
        "colab": {}
      },
      "source": [
        ""
      ],
      "execution_count": 0,
      "outputs": []
    }
  ]
}