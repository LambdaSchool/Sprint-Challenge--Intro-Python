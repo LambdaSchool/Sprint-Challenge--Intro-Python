{
  "nbformat": 4,
  "nbformat_minor": 0,
  "metadata": {
    "colab": {
      "name": "Sprint17_cs1_rough.ipynb",
      "provenance": []
    },
    "kernelspec": {
      "name": "python3",
      "display_name": "Python 3"
    }
  },
  "cells": [
    {
      "cell_type": "code",
      "metadata": {
        "id": "fcWpT4ltJ_W4",
        "colab_type": "code",
        "colab": {}
      },
      "source": [
        "# The following list comprehension exercises will make use of the \n",
        "# defined Human class. \n",
        "class Human:\n",
        "    def __init__(self, name, age):\n",
        "        self.name = name\n",
        "        self.age = age\n",
        "\n",
        "    def __repr__(self):\n",
        "        return f\"<Human: {self.name}, {self.age}>\"\n",
        "\n",
        "humans = [\n",
        "    Human(\"Alice\", 29),\n",
        "    Human(\"Bob\", 32),\n",
        "    Human(\"Charlie\", 37),\n",
        "    Human(\"Daphne\", 30),\n",
        "    Human(\"Eve\", 26),\n",
        "    Human(\"Frank\", 18),\n",
        "    Human(\"Glenn\", 42),\n",
        "    Human(\"Harrison\", 12),\n",
        "    Human(\"Igon\", 41),\n",
        "    Human(\"David\", 31),\n",
        "]"
      ],
      "execution_count": 0,
      "outputs": []
    },
    {
      "cell_type": "code",
      "metadata": {
        "id": "AAOiSc4IKFdk",
        "colab_type": "code",
        "colab": {
          "base_uri": "https://localhost:8080/",
          "height": 34
        },
        "outputId": "dc02fb3e-1771-48f2-d3dc-dbc69dadc143"
      },
      "source": [
        "type(humans)"
      ],
      "execution_count": 4,
      "outputs": [
        {
          "output_type": "execute_result",
          "data": {
            "text/plain": [
              "list"
            ]
          },
          "metadata": {
            "tags": []
          },
          "execution_count": 4
        }
      ]
    },
    {
      "cell_type": "code",
      "metadata": {
        "id": "x62qNQI3KOLA",
        "colab_type": "code",
        "colab": {
          "base_uri": "https://localhost:8080/",
          "height": 34
        },
        "outputId": "4dbadfe5-e434-49c8-c1af-b8b43d616820"
      },
      "source": [
        "type(humans[0])"
      ],
      "execution_count": 6,
      "outputs": [
        {
          "output_type": "execute_result",
          "data": {
            "text/plain": [
              "__main__.Human"
            ]
          },
          "metadata": {
            "tags": []
          },
          "execution_count": 6
        }
      ]
    },
    {
      "cell_type": "code",
      "metadata": {
        "id": "mNTlSmmCKTZN",
        "colab_type": "code",
        "colab": {
          "base_uri": "https://localhost:8080/",
          "height": 34
        },
        "outputId": "fee92f9e-3c61-4b0c-99e0-c5d60e8bbecc"
      },
      "source": [
        "len(humans)"
      ],
      "execution_count": 8,
      "outputs": [
        {
          "output_type": "execute_result",
          "data": {
            "text/plain": [
              "10"
            ]
          },
          "metadata": {
            "tags": []
          },
          "execution_count": 8
        }
      ]
    },
    {
      "cell_type": "markdown",
      "metadata": {
        "id": "0mQ1ZFgUWl7f",
        "colab_type": "text"
      },
      "source": [
        " We have a collection of US cities with population over 750,000 stored in the\n",
        " file \"cities.csv\". (CSV stands for \"comma-separated values\".)\n",
        "\n",
        "### In the body of the `cityreader` function, use Python's built-in \"csv\" module\n",
        "\n",
        "### to read this file so that each record is imported into a City instance. Then\n",
        "### return the list with all the City instances from the function.\n",
        "### Google \"python 3 csv\" for references and use your Google-fu for other examples.\n",
        "###\n",
        "# Store the instances in the \"cities\" list, below.\n",
        "###\n",
        "# Note that the first line of the CSV is header that describes the fields--this\n",
        "# should not be loaded into a City object.\n",
        "#find that working with matts folder\n",
        "\n",
        "# TODO Implement the functionality to read from the 'cities.csv' file\n",
        "# For each city record, create a new City instance and add it to the\n",
        "# `cities` list\n",
        "\n",
        "# Print the list of cities (name, lat, lon), 1 record per line.\n"
      ]
    },
    {
      "cell_type": "code",
      "metadata": {
        "id": "ihuUyl4yZkVB",
        "colab_type": "code",
        "colab": {}
      },
      "source": [
        "class Vechicle():\n",
        "    pass\n",
        "\n",
        "class FlightVehicle(Vechicle):\n",
        "    pass\n",
        "class GroundVechicle(Vechicle):\n",
        "    pass\n",
        "\n",
        "class Starship(FlightVehicle):\n",
        "    pass\n",
        "class Airplane(FlightVehicle):\n",
        "    pass\n",
        "\n",
        "class Car(GroundVechicle):\n",
        "    pass\n",
        "class Motorcycle(GroundVechicle):\n",
        "    pass"
      ],
      "execution_count": 0,
      "outputs": []
    },
    {
      "cell_type": "code",
      "metadata": {
        "id": "XmZbk2LyZpt5",
        "colab_type": "code",
        "colab": {
          "base_uri": "https://localhost:8080/",
          "height": 130
        },
        "outputId": "542e1b29-d4b3-457f-f2ee-9fad3dad7631"
      },
      "source": [
        "# To the GroundVehicle class, add method drive() that returns \"vroooom\".\n",
        "#\n",
        "# Also change it so the num_wheels defaults to 4 if not specified when the\n",
        "# object is constructed.\n",
        "\n",
        "class GroundVehicle():\n",
        "    def __init__(self, num_wheels):\n",
        "        self.num_wheels = num_wheels\n",
        "#    @vroooommethod\n",
        "    def drive(self):\n",
        "        return gooo(\n",
        "        pass\n",
        "        )\n",
        "\n",
        "\n",
        "# Subclass Motorcycle from GroundVehicle.\n",
        "\n",
        "# Make it so when you instantiate a Motorcycle, it automatically sets the number\n",
        "# of wheels to 2 by passing that to the constructor of its superclass.\n",
        "#\n",
        "# Override the drive() method in Motorcycle so that it returns \"BRAAAP!!\"\n",
        "\n",
        "class Motorcycle(GroundVehicle):\n",
        "    def __init__(self,num_wheels):\n",
        "        self.num_wheels = num_wheels\n",
        "    def Override(self):\n",
        "        #something here\n",
        "\n",
        "    bike = Motorcycle(2)\n",
        "    print(bike.num_wheels)\n",
        "\n",
        "vehicles = [\n",
        "    GroundVehicle(),\n",
        "    GroundVehicle(),\n",
        "    Motorcycle(),\n",
        "    GroundVehicle(),\n",
        "    Motorcycle(),\n",
        "]\n",
        "\n",
        "# Go through the vehicles list and print the result of calling drive() on each.\n",
        "\n",
        "comp_Vec = [vec for vec in range(len(vehicles))]\n",
        "print(\"Vechicles\")\n",
        "vec = []\n",
        "print(vec)\n"
      ],
      "execution_count": 13,
      "outputs": [
        {
          "output_type": "error",
          "ename": "SyntaxError",
          "evalue": "ignored",
          "traceback": [
            "\u001b[0;36m  File \u001b[0;32m\"<ipython-input-13-6ac8bf130eaa>\"\u001b[0;36m, line \u001b[0;32m12\u001b[0m\n\u001b[0;31m    pass\u001b[0m\n\u001b[0m       ^\u001b[0m\n\u001b[0;31mSyntaxError\u001b[0m\u001b[0;31m:\u001b[0m invalid syntax\n"
          ]
        }
      ]
    },
    {
      "cell_type": "code",
      "metadata": {
        "id": "CcEM6fqJb3bV",
        "colab_type": "code",
        "colab": {}
      },
      "source": [
        "# Subclass Motorcycle from GroundVehicle.\n",
        "\n",
        "# Make it so when you instantiate a Motorcycle, it automatically sets the number\n",
        "# of wheels to 2 by passing that to the constructor of its superclass.\n",
        "#\n",
        "# Override the drive() method in Motorcycle so that it returns \"BRAAAP!!\"\n",
        "\n",
        " constructor\n",
        "\n",
        "# YOUR CODE HERE\n",
        "\n",
        "class LatLon():\n",
        "    def __init__(self,lat, lon):\n",
        "        self.lat = lat\n",
        "        self.lon = lon\n",
        "thing1 = latlon(23,35)        \n",
        "p\n",
        "# Make a class Waypoint that can be passed parameters `name`, `lat`, and `lon` to the\n",
        "# constructor. It should inherit from LatLon. Look up the `super` method.\n",
        "\n",
        "# YOUR CODE HERE\n",
        "class Waypoint(LatLon):\n",
        "    def __init__(self, name, lat, lon):\n",
        "        super().__init__(lat, lon)\n",
        "        self.name = name\n",
        "names = Waypoint(12, 543, \"Detroit\")\n",
        "print(str(names.lat))\n",
        "print(str(names.lon))\n",
        "print(str(names))\n",
        "\n",
        "\n",
        "\n",
        "# Make a class Geocache that can be passed parameters `name`, `difficulty`,\n",
        "# `size`, `lat`, and `lon` to the constructor. What should it inherit from?\n",
        "\n",
        "# YOUR CODE HERE\n",
        "class Geocache(Waypoint):\n",
        "    def __init__(self, name, lat, lon, difficulty, size):\n",
        "        super().__init__(lat, lon, name)\n",
        "        self.difficulty = difficulty\n",
        "        self.size  = size\n",
        "loca = Waypoint(12, 543, \"Detroit\", \"hard\", 10)\n",
        "print(str(loca.difficulty))\n",
        "print(str(loca.size))\n",
        "\n",
        "\n",
        "# Make a new waypoint and print it out: \"Catacombs\", 41.70505, -121.51521\n",
        "\n",
        "# YOUR CODE HERE\n",
        "\n",
        "waypoint = Waypoint(41.70505, -121.51521,\"catacombs\")\n",
        "# Without changing the following line, how can you make it print into something\n",
        "# more human-readable? Hint: Look up the `object.__str__` method\n",
        "print(waypoint)\n",
        "\n",
        "# Make a new geocache \"Newberry Views\", diff 1.5, size 2, 44.052137, -121.41556\n",
        "\n",
        "# YOUR CODE HERE\n",
        "geocache = Geocache(41.5, 44.052137,\"Newberry Views\" ,difficulty = \"hard\", size = 2)\n",
        "# Print it--also make this print more nicely\n",
        "print(geocache)"
      ],
      "execution_count": 0,
      "outputs": []
    },
    {
      "cell_type": "code",
      "metadata": {
        "id": "vIkg2KdWfA9u",
        "colab_type": "code",
        "colab": {}
      },
      "source": [
        "class Human:\n",
        "    def __init__(self, name, age):\n",
        "        self.name = name\n",
        "        self.age = age\n",
        "\n",
        "    def __repr__(self):\n",
        "        return f\"<Human: {self.name}, {self.age}>\"\n",
        "\n",
        "humans = [\n",
        "    Human(\"Alice\", 29),\n",
        "    Human(\"Bob\", 32),\n",
        "    Human(\"Charlie\", 37),\n",
        "    Human(\"Daphne\", 30),\n",
        "    Human(\"Eve\", 26),\n",
        "    Human(\"Frank\", 18),\n",
        "    Human(\"Glenn\", 42),\n",
        "    Human(\"Harrison\", 12),\n",
        "    Human(\"Igon\", 41),\n",
        "    Human(\"David\", 31),\n",
        "]"
      ],
      "execution_count": 0,
      "outputs": []
    },
    {
      "cell_type": "code",
      "metadata": {
        "id": "zWtv-HZOfaQn",
        "colab_type": "code",
        "colab": {
          "base_uri": "https://localhost:8080/",
          "height": 130
        },
        "outputId": "ffe400ec-53fe-4b2c-a7ab-5b41c02c737a"
      },
      "source": [
        "comp_D = [d for d in range(len(humans)) if d starts with D]\n",
        "print(\"Starts with D:\")\n",
        "d = []\n",
        "print(d)"
      ],
      "execution_count": 15,
      "outputs": [
        {
          "output_type": "error",
          "ename": "SyntaxError",
          "evalue": "ignored",
          "traceback": [
            "\u001b[0;36m  File \u001b[0;32m\"<ipython-input-15-691c040144aa>\"\u001b[0;36m, line \u001b[0;32m1\u001b[0m\n\u001b[0;31m    comp_D = [d for d in range(len(humans)) if d starts with D]\u001b[0m\n\u001b[0m                                                      ^\u001b[0m\n\u001b[0;31mSyntaxError\u001b[0m\u001b[0;31m:\u001b[0m invalid syntax\n"
          ]
        }
      ]
    },
    {
      "cell_type": "code",
      "metadata": {
        "id": "jAMv6qNUfthW",
        "colab_type": "code",
        "colab": {
          "base_uri": "https://localhost:8080/",
          "height": 34
        },
        "outputId": "707ef64c-02d0-4e68-dc70-46909f4ff1d7"
      },
      "source": [
        "y = []\n",
        "\n",
        "starting_array = [y for y in range(6) if y > 0 ]\n",
        "starting_array"
      ],
      "execution_count": 17,
      "outputs": [
        {
          "output_type": "execute_result",
          "data": {
            "text/plain": [
              "[1, 2, 3, 4, 5]"
            ]
          },
          "metadata": {
            "tags": []
          },
          "execution_count": 17
        }
      ]
    },
    {
      "cell_type": "code",
      "metadata": {
        "id": "X3EEubsgfzZO",
        "colab_type": "code",
        "colab": {
          "base_uri": "https://localhost:8080/",
          "height": 130
        },
        "outputId": "8afc06ba-77a2-428e-be75-e1ebc812314e"
      },
      "source": [
        "\n",
        "\n",
        "# Define intense_string\n",
        "def intense_string(string, intense=False):\n",
        "    \"\"\"can make all letters capitol in a string\"\"\"\n",
        "\n",
        "    # Make string uppercase if intense is True\n",
        "    if intense is True:\n",
        "        # Make uppercase\n",
        "        string_upper = string.upper()\n",
        "    else:\n",
        "        # if intense is false\n",
        "        string_upper = string\n",
        "\n",
        "    # Return echo_word_new\n",
        "    return string_upper\n",
        "\n",
        "  \"\"\"can make all letters capitol in a string\"\"\"\n",
        "\n",
        "    # Make string uppercase if intense is True\n",
        "    if intense is True:\n",
        "        # Make uppercase\n",
        "        string_upper = string.upper()\n",
        "    else:\n",
        "        # if intense is false\n",
        "        string_upper = string\n",
        "\n",
        "    # Return echo_word_new\n",
        "    return string_upper\n",
        "\n",
        "\n",
        "for i in a_list_of_str: \n",
        "  print(intense_string(i , intense=True))\n"
      ],
      "execution_count": 18,
      "outputs": [
        {
          "output_type": "error",
          "ename": "IndentationError",
          "evalue": "ignored",
          "traceback": [
            "\u001b[0;36m  File \u001b[0;32m\"<ipython-input-18-394af9cd1e80>\"\u001b[0;36m, line \u001b[0;32m18\u001b[0m\n\u001b[0;31m    \"\"\"can make all letters capitol in a string\"\"\"\u001b[0m\n\u001b[0m                                                  ^\u001b[0m\n\u001b[0;31mIndentationError\u001b[0m\u001b[0;31m:\u001b[0m unindent does not match any outer indentation level\n"
          ]
        }
      ]
    },
    {
      "cell_type": "code",
      "metadata": {
        "id": "nhhMLS1dgGGR",
        "colab_type": "code",
        "colab": {}
      },
      "source": [
        "comp_D = [d for d in range(len(humans)) if d starts with D]\n",
        "print(\"Starts with D:\")\n",
        "d = []\n",
        "print(d)"
      ],
      "execution_count": 0,
      "outputs": []
    },
    {
      "cell_type": "code",
      "metadata": {
        "id": "nDmqWMQmgIK-",
        "colab_type": "code",
        "colab": {}
      },
      "source": [
        "a_list_of_str = [\"foo\", \"bar\", \"baz\"]\n",
        "\n",
        "comp_str = [name for name in range(len(a_list_of_str) if )]"
      ],
      "execution_count": 0,
      "outputs": []
    },
    {
      "cell_type": "code",
      "metadata": {
        "id": "_adgMk7DhJL_",
        "colab_type": "code",
        "colab": {
          "base_uri": "https://localhost:8080/",
          "height": 130
        },
        "outputId": "5b7a488c-ef86-445b-db44-355773e02743"
      },
      "source": [
        "listOfWords = [\"this\",\"is\",\"a\",\"list\",\"of\",\"words\"]\n",
        "\n",
        "items = [ word[0] for word in listOfWords ]\n",
        "some  [x for x in listOfWords if x.isdigit()]\n",
        "\n",
        "print(items)\n"
      ],
      "execution_count": 25,
      "outputs": [
        {
          "output_type": "error",
          "ename": "SyntaxError",
          "evalue": "ignored",
          "traceback": [
            "\u001b[0;36m  File \u001b[0;32m\"<ipython-input-25-d5fc3eec11e9>\"\u001b[0;36m, line \u001b[0;32m4\u001b[0m\n\u001b[0;31m    some  [x for x in listOfWords if x.isdigit()]\u001b[0m\n\u001b[0m               ^\u001b[0m\n\u001b[0;31mSyntaxError\u001b[0m\u001b[0;31m:\u001b[0m invalid syntax\n"
          ]
        }
      ]
    },
    {
      "cell_type": "code",
      "metadata": {
        "id": "dqPnWp7jh22H",
        "colab_type": "code",
        "colab": {
          "base_uri": "https://localhost:8080/",
          "height": 34
        },
        "outputId": "952dfbd5-56b4-42c2-856e-857f54b5767d"
      },
      "source": [
        "names = [\"Matthew\", \"John\", \"Helen\", \"Stephen\", \"Alexandra\", \"Rolf\"]\n",
        "\n",
        "short_final_n = [name for name in names if len(name) < 6 if name[-1] == \"n\"]\n",
        "\n",
        "print(short_final_n)"
      ],
      "execution_count": 27,
      "outputs": [
        {
          "output_type": "stream",
          "text": [
            "['John', 'Helen']\n"
          ],
          "name": "stdout"
        }
      ]
    },
    {
      "cell_type": "code",
      "metadata": {
        "id": "sG4OIE2JiQs-",
        "colab_type": "code",
        "colab": {
          "base_uri": "https://localhost:8080/",
          "height": 34
        },
        "outputId": "b97b2c5a-e63e-4125-8fdf-d2d931a22ce5"
      },
      "source": [
        "startin_n = [name for name in names if name[0] == \"J\"]\n",
        "startin_n"
      ],
      "execution_count": 35,
      "outputs": [
        {
          "output_type": "execute_result",
          "data": {
            "text/plain": [
              "['John']"
            ]
          },
          "metadata": {
            "tags": []
          },
          "execution_count": 35
        }
      ]
    },
    {
      "cell_type": "code",
      "metadata": {
        "id": "l_CDDsbni7Ja",
        "colab_type": "code",
        "colab": {
          "base_uri": "https://localhost:8080/",
          "height": 34
        },
        "outputId": "4a12f653-381f-434e-e969-c88fc69ec1c3"
      },
      "source": [
        "type(humans[0])"
      ],
      "execution_count": 42,
      "outputs": [
        {
          "output_type": "execute_result",
          "data": {
            "text/plain": [
              "__main__.Human"
            ]
          },
          "metadata": {
            "tags": []
          },
          "execution_count": 42
        }
      ]
    },
    {
      "cell_type": "code",
      "metadata": {
        "id": "N-KEj2A9i-zT",
        "colab_type": "code",
        "colab": {
          "base_uri": "https://localhost:8080/",
          "height": 251
        },
        "outputId": "a99f72d9-cfb8-445a-9298-90e469a000cc"
      },
      "source": [
        "comp_D = [human for human in humans if human[0] == \"D\" ]\n",
        "comp_D"
      ],
      "execution_count": 39,
      "outputs": [
        {
          "output_type": "error",
          "ename": "TypeError",
          "evalue": "ignored",
          "traceback": [
            "\u001b[0;31m---------------------------------------------------------------------------\u001b[0m",
            "\u001b[0;31mTypeError\u001b[0m                                 Traceback (most recent call last)",
            "\u001b[0;32m<ipython-input-39-014d3035e715>\u001b[0m in \u001b[0;36m<module>\u001b[0;34m()\u001b[0m\n\u001b[0;32m----> 1\u001b[0;31m \u001b[0mcomp_D\u001b[0m \u001b[0;34m=\u001b[0m \u001b[0;34m[\u001b[0m\u001b[0mhuman\u001b[0m \u001b[0;32mfor\u001b[0m \u001b[0mhuman\u001b[0m \u001b[0;32min\u001b[0m \u001b[0mhumans\u001b[0m \u001b[0;32mif\u001b[0m \u001b[0mhuman\u001b[0m\u001b[0;34m[\u001b[0m\u001b[0;36m0\u001b[0m\u001b[0;34m]\u001b[0m \u001b[0;34m==\u001b[0m \u001b[0;34m\"D\"\u001b[0m \u001b[0;34m]\u001b[0m\u001b[0;34m\u001b[0m\u001b[0;34m\u001b[0m\u001b[0m\n\u001b[0m\u001b[1;32m      2\u001b[0m \u001b[0mcomp_D\u001b[0m\u001b[0;34m\u001b[0m\u001b[0;34m\u001b[0m\u001b[0m\n",
            "\u001b[0;32m<ipython-input-39-014d3035e715>\u001b[0m in \u001b[0;36m<listcomp>\u001b[0;34m(.0)\u001b[0m\n\u001b[0;32m----> 1\u001b[0;31m \u001b[0mcomp_D\u001b[0m \u001b[0;34m=\u001b[0m \u001b[0;34m[\u001b[0m\u001b[0mhuman\u001b[0m \u001b[0;32mfor\u001b[0m \u001b[0mhuman\u001b[0m \u001b[0;32min\u001b[0m \u001b[0mhumans\u001b[0m \u001b[0;32mif\u001b[0m \u001b[0mhuman\u001b[0m\u001b[0;34m[\u001b[0m\u001b[0;36m0\u001b[0m\u001b[0;34m]\u001b[0m \u001b[0;34m==\u001b[0m \u001b[0;34m\"D\"\u001b[0m \u001b[0;34m]\u001b[0m\u001b[0;34m\u001b[0m\u001b[0;34m\u001b[0m\u001b[0m\n\u001b[0m\u001b[1;32m      2\u001b[0m \u001b[0mcomp_D\u001b[0m\u001b[0;34m\u001b[0m\u001b[0;34m\u001b[0m\u001b[0m\n",
            "\u001b[0;31mTypeError\u001b[0m: 'Human' object does not support indexing"
          ]
        }
      ]
    },
    {
      "cell_type": "code",
      "metadata": {
        "id": "CdPFzNjAjQgV",
        "colab_type": "code",
        "colab": {}
      },
      "source": [
        "for item in humans:\n",
        "    if item[0]:\n",
        "        expression\n",
        "\n"
      ],
      "execution_count": 0,
      "outputs": []
    },
    {
      "cell_type": "code",
      "metadata": {
        "id": "3sNml8nTk4Iv",
        "colab_type": "code",
        "colab": {}
      },
      "source": [
        ""
      ],
      "execution_count": 0,
      "outputs": []
    },
    {
      "cell_type": "code",
      "metadata": {
        "id": "unEzWA5Gf2wf",
        "colab_type": "code",
        "colab": {
          "base_uri": "https://localhost:8080/",
          "height": 69
        },
        "outputId": "fcd73ae1-f9c9-481b-aeb7-da88a01c1e99"
      },
      "source": [
        "a_list_of_str = [\"foo\", \"bar\", \"baz\"]\n",
        "\n",
        "for item in a_list_of_str: \n",
        "  print(item)"
      ],
      "execution_count": 20,
      "outputs": [
        {
          "output_type": "stream",
          "text": [
            "foo\n",
            "bar\n",
            "baz\n"
          ],
          "name": "stdout"
        }
      ]
    },
    {
      "cell_type": "code",
      "metadata": {
        "id": "eMCzRti-nDBI",
        "colab_type": "code",
        "colab": {
          "base_uri": "https://localhost:8080/",
          "height": 130
        },
        "outputId": "8bbc1616-746e-455f-9aed-7b7fe64c3bdf"
      },
      "source": [
        "total = 0\n",
        "[total := total + x for x in [1, 2, 3, 4, 5]]\n",
        "# 15"
      ],
      "execution_count": 50,
      "outputs": [
        {
          "output_type": "error",
          "ename": "SyntaxError",
          "evalue": "ignored",
          "traceback": [
            "\u001b[0;36m  File \u001b[0;32m\"<ipython-input-50-70e90c6de68a>\"\u001b[0;36m, line \u001b[0;32m2\u001b[0m\n\u001b[0;31m    [total := total + x for x in [1, 2, 3, 4, 5]]\u001b[0m\n\u001b[0m           ^\u001b[0m\n\u001b[0;31mSyntaxError\u001b[0m\u001b[0;31m:\u001b[0m invalid syntax\n"
          ]
        }
      ]
    },
    {
      "cell_type": "code",
      "metadata": {
        "id": "yGCruGIVmSlr",
        "colab_type": "code",
        "colab": {
          "base_uri": "https://localhost:8080/",
          "height": 233
        },
        "outputId": "9af14e16-95a6-42a0-9f3e-f2fa8cccdc77"
      },
      "source": [
        "# list of the cost of fruits in pence\n",
        "list = [(\"apple\", 55), (\"orange\", 60), (\"pineapple\", 140), (\"lemon\", 80)]\n",
        "product = [price for fruit, price in list + 10]\n",
        "total = sum(product)\n",
        "type(product[0])\n",
        "\n",
        "\n"
      ],
      "execution_count": 49,
      "outputs": [
        {
          "output_type": "error",
          "ename": "TypeError",
          "evalue": "ignored",
          "traceback": [
            "\u001b[0;31m---------------------------------------------------------------------------\u001b[0m",
            "\u001b[0;31mTypeError\u001b[0m                                 Traceback (most recent call last)",
            "\u001b[0;32m<ipython-input-49-1537e13f292e>\u001b[0m in \u001b[0;36m<module>\u001b[0;34m()\u001b[0m\n\u001b[1;32m      1\u001b[0m \u001b[0;31m# list of the cost of fruits in pence\u001b[0m\u001b[0;34m\u001b[0m\u001b[0;34m\u001b[0m\u001b[0;34m\u001b[0m\u001b[0m\n\u001b[1;32m      2\u001b[0m \u001b[0mlist\u001b[0m \u001b[0;34m=\u001b[0m \u001b[0;34m[\u001b[0m\u001b[0;34m(\u001b[0m\u001b[0;34m\"apple\"\u001b[0m\u001b[0;34m,\u001b[0m \u001b[0;36m55\u001b[0m\u001b[0;34m)\u001b[0m\u001b[0;34m,\u001b[0m \u001b[0;34m(\u001b[0m\u001b[0;34m\"orange\"\u001b[0m\u001b[0;34m,\u001b[0m \u001b[0;36m60\u001b[0m\u001b[0;34m)\u001b[0m\u001b[0;34m,\u001b[0m \u001b[0;34m(\u001b[0m\u001b[0;34m\"pineapple\"\u001b[0m\u001b[0;34m,\u001b[0m \u001b[0;36m140\u001b[0m\u001b[0;34m)\u001b[0m\u001b[0;34m,\u001b[0m \u001b[0;34m(\u001b[0m\u001b[0;34m\"lemon\"\u001b[0m\u001b[0;34m,\u001b[0m \u001b[0;36m80\u001b[0m\u001b[0;34m)\u001b[0m\u001b[0;34m]\u001b[0m\u001b[0;34m\u001b[0m\u001b[0;34m\u001b[0m\u001b[0m\n\u001b[0;32m----> 3\u001b[0;31m \u001b[0mproduct\u001b[0m \u001b[0;34m=\u001b[0m \u001b[0;34m[\u001b[0m\u001b[0mprice\u001b[0m \u001b[0;32mfor\u001b[0m \u001b[0mfruit\u001b[0m\u001b[0;34m,\u001b[0m \u001b[0mprice\u001b[0m \u001b[0;32min\u001b[0m \u001b[0mlist\u001b[0m \u001b[0;34m+\u001b[0m \u001b[0;36m10\u001b[0m\u001b[0;34m]\u001b[0m\u001b[0;34m\u001b[0m\u001b[0;34m\u001b[0m\u001b[0m\n\u001b[0m\u001b[1;32m      4\u001b[0m \u001b[0mtotal\u001b[0m \u001b[0;34m=\u001b[0m \u001b[0msum\u001b[0m\u001b[0;34m(\u001b[0m\u001b[0mproduct\u001b[0m\u001b[0;34m)\u001b[0m\u001b[0;34m\u001b[0m\u001b[0;34m\u001b[0m\u001b[0m\n\u001b[1;32m      5\u001b[0m \u001b[0mtype\u001b[0m\u001b[0;34m(\u001b[0m\u001b[0mproduct\u001b[0m\u001b[0;34m[\u001b[0m\u001b[0;36m0\u001b[0m\u001b[0;34m]\u001b[0m\u001b[0;34m)\u001b[0m\u001b[0;34m\u001b[0m\u001b[0;34m\u001b[0m\u001b[0m\n",
            "\u001b[0;31mTypeError\u001b[0m: can only concatenate list (not \"int\") to list"
          ]
        }
      ]
    }
  ]
}