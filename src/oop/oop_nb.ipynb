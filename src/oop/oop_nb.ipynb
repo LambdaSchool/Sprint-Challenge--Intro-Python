{
 "cells": [
  {
   "cell_type": "code",
   "execution_count": 1,
   "metadata": {},
   "outputs": [],
   "source": [
    "# Write classes for the following class hierarchy:\n",
    "#\n",
    "#  [Vehicle]->[FlightVehicle]->[Starship]\n",
    "#      |                |\n",
    "#      v                v\n",
    "# [GroundVehicle]      [Airplane]\n",
    "#   |       |\n",
    "#   v       v\n",
    "# [Car]  [Motorcycle]\n",
    "#\n",
    "# Each class can simply \"pass\" for its body. The exercise is about setting up\n",
    "# the hierarchy.\n",
    "#\n",
    "# e.g.\n",
    "#\n",
    "# class Whatever:\n",
    "#     pass\n",
    "#\n",
    "# Put a comment noting which class is the base class\n"
   ]
  },
  {
   "cell_type": "code",
   "execution_count": 5,
   "metadata": {},
   "outputs": [],
   "source": [
    "class Vehicle():\n",
    "    # Base class\n",
    "    \n",
    "    def __init__(self):\n",
    "        pass\n",
    "\n",
    "class FlightVehicle(Vehicle):\n",
    "    pass\n",
    "\n",
    "class Starship(FlightVehicle):\n",
    "    pass\n",
    "\n",
    "class Airplane(FlightVehicle):\n",
    "    pass\n",
    "\n",
    "\n",
    "\n",
    "class GroundVehicle(Vehicle):\n",
    "    pass\n",
    "\n",
    "class Car(GroundVehicle):\n",
    "    pass\n",
    "\n",
    "class Motorcycle(GroundVehicle):\n",
    "    pass\n"
   ]
  },
  {
   "cell_type": "code",
   "execution_count": 34,
   "metadata": {},
   "outputs": [
    {
     "name": "stdout",
     "output_type": "stream",
     "text": [
      "vroooom\n",
      "vroooom\n",
      "BRAAAP!!\n",
      "vroooom\n",
      "BRAAAP!!\n"
     ]
    }
   ],
   "source": [
    "# To the GroundVehicle class, add method drive() that returns \"vroooom\".\n",
    "#\n",
    "# Also change it so the num_wheels defaults to 4 if not specified when the\n",
    "# object is constructed.\n",
    "\n",
    "class GroundVehicle(Vehicle):\n",
    "    def __init__(self, num_wheels=4):\n",
    "        self.num_wheels = num_wheels\n",
    "        self.sound = \"vroooom\"\n",
    "        \n",
    "    def drive(self):\n",
    "        return self.sound\n",
    "\n",
    "class Motorcycle(GroundVehicle):\n",
    "    def __init__(self, num_wheels=2):\n",
    "        super().__init__(num_wheels)\n",
    "        self.num_wheels = num_wheels\n",
    "        self.sound = \"BRAAAP!!\"\n",
    "    \n",
    "    def drive(self):\n",
    "        return self.sound\n",
    "        \n",
    "\n",
    "\n",
    "# Subclass Motorcycle from GroundVehicle.\n",
    "#\n",
    "# Make it so when you instantiate a Motorcycle, it automatically sets the number\n",
    "# of wheels to 2 by passing that to the constructor of its superclass.\n",
    "#\n",
    "# Override the drive() method in Motorcycle so that it returns \"BRAAAP!!\"\n",
    "\n",
    "# TODO\n",
    "\n",
    "vehicles = [\n",
    "    GroundVehicle(),\n",
    "    GroundVehicle(),\n",
    "    Motorcycle(),\n",
    "    GroundVehicle(),\n",
    "    Motorcycle(),\n",
    "]\n",
    "\n",
    "# Go through the vehicles list and print the result of calling drive() on each.\n",
    "\n",
    "# # TODO\n",
    "for vehicle in vehicles:\n",
    "    print(vehicle.drive())"
   ]
  },
  {
   "cell_type": "code",
   "execution_count": 33,
   "metadata": {},
   "outputs": [
    {
     "data": {
      "text/plain": [
       "'vroooom'"
      ]
     },
     "execution_count": 33,
     "metadata": {},
     "output_type": "execute_result"
    }
   ],
   "source": [
    "GroundVehicle().drive()"
   ]
  },
  {
   "cell_type": "code",
   "execution_count": null,
   "metadata": {},
   "outputs": [],
   "source": []
  }
 ],
 "metadata": {
  "kernelspec": {
   "display_name": "Python 3.7.3 64-bit",
   "language": "python",
   "name": "python37364bite27f0586e219420784e6f7ab43c1afa4"
  },
  "language_info": {
   "codemirror_mode": {
    "name": "ipython",
    "version": 3
   },
   "file_extension": ".py",
   "mimetype": "text/x-python",
   "name": "python",
   "nbconvert_exporter": "python",
   "pygments_lexer": "ipython3",
   "version": "3.7.3"
  }
 },
 "nbformat": 4,
 "nbformat_minor": 4
}
