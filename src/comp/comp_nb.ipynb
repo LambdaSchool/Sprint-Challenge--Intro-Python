{
 "cells": [
  {
   "cell_type": "code",
   "execution_count": 1,
   "metadata": {},
   "outputs": [
    {
     "name": "stdout",
     "output_type": "stream",
     "text": [
      "Starts with D:\n"
     ]
    }
   ],
   "source": [
    "# The following list comprehension exercises will make use of the \n",
    "# defined Human class. \n",
    "class Human:\n",
    "    def __init__(self, name, age):\n",
    "        self.name = name\n",
    "        self.age = age\n",
    "\n",
    "    def __repr__(self):\n",
    "        return f\"<Human: {self.name}, {self.age}>\"\n",
    "\n",
    "humans = [\n",
    "    Human(\"Alice\", 29),\n",
    "    Human(\"Bob\", 32),\n",
    "    Human(\"Charlie\", 37),\n",
    "    Human(\"Daphne\", 30),\n",
    "    Human(\"Eve\", 26),\n",
    "    Human(\"Frank\", 18),\n",
    "    Human(\"Glenn\", 42),\n",
    "    Human(\"Harrison\", 12),\n",
    "    Human(\"Igon\", 41),\n",
    "    Human(\"David\", 31),\n",
    "]\n",
    "\n",
    "# Write a list comprehension that creates a list of names of everyone\n",
    "# whose name starts with 'D':\n",
    "print(\"Starts with D:\")\n",
    "a = []\n",
    "# print(a)"
   ]
  },
  {
   "cell_type": "code",
   "execution_count": 16,
   "metadata": {},
   "outputs": [
    {
     "name": "stdout",
     "output_type": "stream",
     "text": [
      "['Daphne', 'David']\n"
     ]
    }
   ],
   "source": [
    "a = [d.name for d in humans if d.name[0] =='D']\n",
    "print(a)"
   ]
  },
  {
   "cell_type": "code",
   "execution_count": 18,
   "metadata": {},
   "outputs": [
    {
     "name": "stdout",
     "output_type": "stream",
     "text": [
      "Ends with e:\n",
      "[]\n"
     ]
    }
   ],
   "source": [
    "# Write a list comprehension that creates a list of names of everyone\n",
    "# whose name ends in \"e\".\n",
    "print(\"Ends with e:\")\n",
    "b = []\n",
    "print(b)"
   ]
  },
  {
   "cell_type": "code",
   "execution_count": 20,
   "metadata": {},
   "outputs": [
    {
     "name": "stdout",
     "output_type": "stream",
     "text": [
      "['Alice', 'Charlie', 'Daphne', 'Eve']\n"
     ]
    }
   ],
   "source": [
    "b = [d.name for d in humans if d.name[-1] =='e']\n",
    "print(b)"
   ]
  },
  {
   "cell_type": "code",
   "execution_count": 24,
   "metadata": {},
   "outputs": [
    {
     "name": "stdout",
     "output_type": "stream",
     "text": [
      "Starts between C and G, inclusive:\n",
      "['Charlie', 'Daphne', 'Eve', 'Frank', 'Glenn', 'David']\n"
     ]
    }
   ],
   "source": [
    "# Write a list comprehension that creates a list of names of everyone\n",
    "# whose name starts with any letter between 'C' and 'G' inclusive.\n",
    "print(\"Starts between C and G, inclusive:\")\n",
    "acceptable_letters = ['C','D','E','F','G']\n",
    "c = [d.name for d in humans if d.name[0] in acceptable_letters]\n",
    "print(c)"
   ]
  },
  {
   "cell_type": "code",
   "execution_count": 25,
   "metadata": {},
   "outputs": [
    {
     "name": "stdout",
     "output_type": "stream",
     "text": [
      "Ages plus 10:\n",
      "[39, 42, 47, 40, 36, 28, 52, 22, 51, 41]\n"
     ]
    }
   ],
   "source": [
    "\n",
    "# Write a list comprehension that creates a list of all the ages plus 10.\n",
    "print(\"Ages plus 10:\")\n",
    "d = [d.age + 10 for d in humans]\n",
    "print(d)\n"
   ]
  },
  {
   "cell_type": "code",
   "execution_count": 26,
   "metadata": {},
   "outputs": [
    {
     "name": "stdout",
     "output_type": "stream",
     "text": [
      "Name hyphen age:\n",
      "['Alice-29', 'Bob-32', 'Charlie-37', 'Daphne-30', 'Eve-26', 'Frank-18', 'Glenn-42', 'Harrison-12', 'Igon-41', 'David-31']\n"
     ]
    }
   ],
   "source": [
    "# Write a list comprehension that creates a list of strings which are the name\n",
    "# joined to the age with a hyphen, for example \"David-31\", for all humans.\n",
    "print(\"Name hyphen age:\")\n",
    "e = [d.name + '-' + str(d.age) for d in humans]\n",
    "print(e)\n"
   ]
  },
  {
   "cell_type": "code",
   "execution_count": 31,
   "metadata": {},
   "outputs": [
    {
     "name": "stdout",
     "output_type": "stream",
     "text": [
      "Names and ages between 27 and 32:\n",
      "[('Alice', 29), ('Bob', 32), ('Daphne', 30), ('David', 31)]\n"
     ]
    }
   ],
   "source": [
    "\n",
    "# Write a list comprehension that creates a list of tuples containing name and\n",
    "# age, for example (\"David\", 31), for everyone between the ages of 27 and 32,\n",
    "# inclusive.\n",
    "print(\"Names and ages between 27 and 32:\")\n",
    "f = [(d.name, d.age) for d in humans if d.age <= 32 and d.age >=27]\n",
    "print(f)\n"
   ]
  },
  {
   "cell_type": "code",
   "execution_count": 34,
   "metadata": {},
   "outputs": [
    {
     "name": "stdout",
     "output_type": "stream",
     "text": [
      "All names uppercase:\n",
      "[<Human: ALICE, 34>, <Human: BOB, 37>, <Human: CHARLIE, 42>, <Human: DAPHNE, 35>, <Human: EVE, 31>, <Human: FRANK, 23>, <Human: GLENN, 47>, <Human: HARRISON, 17>, <Human: IGON, 46>, <Human: DAVID, 36>]\n"
     ]
    }
   ],
   "source": [
    "\n",
    "# Write a list comprehension that creates a list of new Humans like the old\n",
    "# list, except with all the names uppercase and the ages with 5 added to them.\n",
    "# The \"humans\" list should be unmodified.\n",
    "print(\"All names uppercase:\")\n",
    "humes = [(d.name.upper(), d.age+5) for d in humans]\n",
    "g = [Human(*h) for h in humes]\n",
    "print(g)"
   ]
  },
  {
   "cell_type": "code",
   "execution_count": 36,
   "metadata": {},
   "outputs": [
    {
     "name": "stdout",
     "output_type": "stream",
     "text": [
      "Square root of ages:\n",
      "[5.385164807134504, 5.656854249492381, 6.082762530298219, 5.477225575051661, 5.0990195135927845, 4.242640687119285, 6.48074069840786, 3.4641016151377544, 6.4031242374328485, 5.5677643628300215]\n"
     ]
    }
   ],
   "source": [
    "# Write a list comprehension that contains the square root of all the ages.\n",
    "print(\"Square root of ages:\")\n",
    "import math\n",
    "h = [math.sqrt(d.age) for d in humans]\n",
    "print(h)\n"
   ]
  },
  {
   "cell_type": "code",
   "execution_count": null,
   "metadata": {},
   "outputs": [],
   "source": []
  }
 ],
 "metadata": {
  "kernelspec": {
   "display_name": "Python 3",
   "language": "python",
   "name": "python3"
  },
  "language_info": {
   "codemirror_mode": {
    "name": "ipython",
    "version": 3
   },
   "file_extension": ".py",
   "mimetype": "text/x-python",
   "name": "python",
   "nbconvert_exporter": "python",
   "pygments_lexer": "ipython3",
   "version": "3.7.4"
  }
 },
 "nbformat": 4,
 "nbformat_minor": 4
}
