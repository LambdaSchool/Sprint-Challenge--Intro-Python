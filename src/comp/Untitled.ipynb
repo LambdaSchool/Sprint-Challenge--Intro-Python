{
 "cells": [
  {
   "cell_type": "code",
   "execution_count": 1,
   "metadata": {},
   "outputs": [
    {
     "name": "stdout",
     "output_type": "stream",
     "text": [
      "Starts with D:\n"
     ]
    }
   ],
   "source": [
    "# The following list comprehension exercises will make use of the \n",
    "# defined Human class. \n",
    "class Human:\n",
    "    def __init__(self, name, age):\n",
    "        self.name = name\n",
    "        self.age = age\n",
    "\n",
    "    def __repr__(self):\n",
    "        return f\"<Human: {self.name}, {self.age}>\"\n",
    "\n",
    "humans = [\n",
    "    Human(\"Alice\", 29),\n",
    "    Human(\"Bob\", 32),\n",
    "    Human(\"Charlie\", 37),\n",
    "    Human(\"Daphne\", 30),\n",
    "    Human(\"Eve\", 26),\n",
    "    Human(\"Frank\", 18),\n",
    "    Human(\"Glenn\", 42),\n",
    "    Human(\"Harrison\", 12),\n",
    "    Human(\"Igon\", 41),\n",
    "    Human(\"David\", 31),\n",
    "]\n",
    "\n",
    "# Write a list comprehension that creates a list of names of everyone\n",
    "# whose name starts with 'D':\n",
    "print(\"Starts with D:\")\n",
    "a = []\n",
    "# print(a)"
   ]
  },
  {
   "cell_type": "code",
   "execution_count": 16,
   "metadata": {},
   "outputs": [
    {
     "name": "stdout",
     "output_type": "stream",
     "text": [
      "['Daphne', 'David']\n"
     ]
    }
   ],
   "source": [
    "a = [d.name for d in humans if d.name[0] =='D']\n",
    "print(a)"
   ]
  },
  {
   "cell_type": "code",
   "execution_count": 12,
   "metadata": {},
   "outputs": [
    {
     "data": {
      "text/plain": [
       "<Human: Alice, 29>"
      ]
     },
     "execution_count": 12,
     "metadata": {},
     "output_type": "execute_result"
    }
   ],
   "source": [
    "humans[0]"
   ]
  },
  {
   "cell_type": "code",
   "execution_count": null,
   "metadata": {},
   "outputs": [],
   "source": []
  }
 ],
 "metadata": {
  "kernelspec": {
   "display_name": "Python 3",
   "language": "python",
   "name": "python3"
  },
  "language_info": {
   "codemirror_mode": {
    "name": "ipython",
    "version": 3
   },
   "file_extension": ".py",
   "mimetype": "text/x-python",
   "name": "python",
   "nbconvert_exporter": "python",
   "pygments_lexer": "ipython3",
   "version": "3.7.4"
  }
 },
 "nbformat": 4,
 "nbformat_minor": 4
}
