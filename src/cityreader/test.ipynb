{
 "cells": [
  {
   "cell_type": "code",
   "execution_count": 4,
   "metadata": {},
   "outputs": [],
   "source": [
    "# Create a class to hold a city location. Call the class \"City\". It should have\n",
    "# fields for name, lat and lon (representing latitude and longitude).\n",
    "\n",
    "class City:\n",
    "    def __init__(self, name, lat, lon):\n",
    "        self.name = name\n",
    "        self.lat = lat\n",
    "        self.lon = lon\n",
    "\n",
    "# We have a collection of US cities with population over 750,000 stored in the\n",
    "# file \"cities.csv\". (CSV stands for \"comma-separated values\".)\n",
    "#\n",
    "# In the body of the `cityreader` function, use Python's built-in \"csv\" module \n",
    "# to read this file so that each record is imported into a City instance. Then\n",
    "# return the list with all the City instances from the function.\n",
    "# Google \"python 3 csv\" for references and use your Google-fu for other examples.\n",
    "#\n",
    "# Store the instances in the \"cities\" list, below.\n",
    "#\n",
    "# Note that the first line of the CSV is header that describes the fields--this\n",
    "# should not be loaded into a City object.\n",
    "cities = []"
   ]
  },
  {
   "cell_type": "code",
   "execution_count": 39,
   "metadata": {},
   "outputs": [],
   "source": [
    "def cityreader(cities=[]):\n",
    "    # Load CSV\n",
    "    file = open(\"cities.csv\", \"r\")\n",
    "    city_strings = file.read().split(\"\\n\")[1:-1]\n",
    "    city_lists = [string.split(\",\") for string in city_strings]\n",
    "    city_data = [(entry[0], entry[3], entry[4]) for entry in city_lists]\n",
    "    \n",
    "    # Enter each data point into a class & add to cities\n",
    "    for entry in city_data:\n",
    "        new_city = City(entry[0], entry[1], entry[2])\n",
    "        cities.append(new_city)\n",
    "    \n",
    "    return cities"
   ]
  },
  {
   "cell_type": "code",
   "execution_count": 40,
   "metadata": {},
   "outputs": [
    {
     "data": {
      "text/plain": [
       "[<__main__.City at 0x7effa2152588>,\n",
       " <__main__.City at 0x7effa21525c0>,\n",
       " <__main__.City at 0x7effa21525f8>,\n",
       " <__main__.City at 0x7effa2152630>,\n",
       " <__main__.City at 0x7effa2152668>,\n",
       " <__main__.City at 0x7effa21526a0>,\n",
       " <__main__.City at 0x7effa21526d8>,\n",
       " <__main__.City at 0x7effa2152710>,\n",
       " <__main__.City at 0x7effa2152748>,\n",
       " <__main__.City at 0x7effa2152780>,\n",
       " <__main__.City at 0x7effa21527b8>,\n",
       " <__main__.City at 0x7effa21527f0>,\n",
       " <__main__.City at 0x7effa2152828>,\n",
       " <__main__.City at 0x7effa2152860>,\n",
       " <__main__.City at 0x7effa2152898>,\n",
       " <__main__.City at 0x7effa21528d0>,\n",
       " <__main__.City at 0x7effa2152908>,\n",
       " <__main__.City at 0x7effa2152940>,\n",
       " <__main__.City at 0x7effa2152978>,\n",
       " <__main__.City at 0x7effa21529b0>,\n",
       " <__main__.City at 0x7effa21529e8>,\n",
       " <__main__.City at 0x7effa2152a20>,\n",
       " <__main__.City at 0x7effa2152a58>,\n",
       " <__main__.City at 0x7effa2152a90>,\n",
       " <__main__.City at 0x7effa2152ac8>,\n",
       " <__main__.City at 0x7effa2152b00>,\n",
       " <__main__.City at 0x7effa2152b38>,\n",
       " <__main__.City at 0x7effa2152b70>,\n",
       " <__main__.City at 0x7effa2152ba8>,\n",
       " <__main__.City at 0x7effa2152be0>,\n",
       " <__main__.City at 0x7effa2152c18>,\n",
       " <__main__.City at 0x7effa2152c50>,\n",
       " <__main__.City at 0x7effa2152c88>,\n",
       " <__main__.City at 0x7effa2152cc0>,\n",
       " <__main__.City at 0x7effa2152cf8>,\n",
       " <__main__.City at 0x7effa2152d30>,\n",
       " <__main__.City at 0x7effa2152d68>,\n",
       " <__main__.City at 0x7effa2152da0>,\n",
       " <__main__.City at 0x7effa2152dd8>,\n",
       " <__main__.City at 0x7effa2152e10>,\n",
       " <__main__.City at 0x7effa2152e48>,\n",
       " <__main__.City at 0x7effa2152e80>,\n",
       " <__main__.City at 0x7effa2152eb8>,\n",
       " <__main__.City at 0x7effa2152ef0>,\n",
       " <__main__.City at 0x7effa2152f28>,\n",
       " <__main__.City at 0x7effa2152f60>,\n",
       " <__main__.City at 0x7effa2152f98>,\n",
       " <__main__.City at 0x7effa2152fd0>,\n",
       " <__main__.City at 0x7effa218f048>,\n",
       " <__main__.City at 0x7effa218f080>,\n",
       " <__main__.City at 0x7effa218f0b8>,\n",
       " <__main__.City at 0x7effa218f0f0>,\n",
       " <__main__.City at 0x7effa218f128>,\n",
       " <__main__.City at 0x7effa218f160>,\n",
       " <__main__.City at 0x7effa218f198>,\n",
       " <__main__.City at 0x7effa218f1d0>,\n",
       " <__main__.City at 0x7effa218f208>,\n",
       " <__main__.City at 0x7effa218f240>,\n",
       " <__main__.City at 0x7effa218f278>,\n",
       " <__main__.City at 0x7effa218f2b0>]"
      ]
     },
     "execution_count": 40,
     "metadata": {},
     "output_type": "execute_result"
    }
   ],
   "source": [
    "cityreader(cities)"
   ]
  },
  {
   "cell_type": "code",
   "execution_count": 38,
   "metadata": {},
   "outputs": [
    {
     "name": "stdout",
     "output_type": "stream",
     "text": [
      "[('Seattle', '47.6217', '-122.3238'), ('Richmond', '37.5294', '-77.4755'), ('Virginia Beach', '36.7335', '-76.0435'), ('Washington', '38.9047', '-77.0163'), ('Milwaukee', '43.0640', '-87.9669'), ('Orlando', '28.4801', '-81.3448'), ('Miami', '25.7840', '-80.2102'), ('Tampa', '27.9937', '-82.4454'), ('Jacksonville', '30.3322', '-81.6749'), ('Albuquerque', '35.1055', '-106.6476'), ('Fort Worth', '32.7813', '-97.3466'), ('McAllen', '26.2203', '-98.2457'), ('El Paso', '31.8478', '-106.4310'), ('Dallas', '32.7938', '-96.7659'), ('Austin', '30.3038', '-97.7545'), ('Houston', '29.7871', '-95.3936'), ('San Antonio', '29.4722', '-98.5247'), ('New Orleans', '30.0687', '-89.9288'), ('Charlotte', '35.2080', '-80.8308'), ('Raleigh', '35.8323', '-78.6441'), ('Omaha', '41.2634', '-96.0453'), ('Memphis', '35.1047', '-89.9773'), ('Nashville', '36.1714', '-86.7844'), ('Buffalo', '42.9016', '-78.8487'), ('Queens', '40.7498', '-73.7976'), ('New York', '40.6943', '-73.9249'), ('Bronx', '40.8501', '-73.8662'), ('Brooklyn', '40.6501', '-73.9496'), ('Manhattan', '40.7834', '-73.9662'), ('Philadelphia', '40.0076', '-75.1340'), ('Pittsburgh', '40.4396', '-79.9763'), ('Sacramento', '38.5666', '-121.4683'), ('Riverside', '33.9382', '-117.3949'), ('San Francisco', '37.7561', '-122.4429'), ('San Diego', '32.8312', '-117.1225'), ('San Jose', '37.3020', '-121.8488'), ('Los Angeles', '34.1140', '-118.4068'), ('Las Vegas', '36.2288', '-115.2603'), ('Denver', '39.7621', '-104.8759'), ('Chicago', '41.8373', '-87.6861'), ('Atlanta', '33.7627', '-84.4231'), ('Indianapolis', '39.7771', '-86.1458'), ('Oklahoma City', '35.4677', '-97.5138'), ('Phoenix', '33.5722', '-112.0891'), ('Tucson', '32.1558', '-110.8777'), ('Bridgeport', '41.1909', '-73.1958'), ('Hartford', '41.7661', '-72.6834'), ('Baltimore', '39.3051', '-76.6144'), ('Boston', '42.3189', '-71.0838'), ('Cleveland', '41.4766', '-81.6805'), ('Columbus', '39.9859', '-82.9852'), ('Cincinnati', '39.1412', '-84.5060'), ('Salt Lake City', '40.7774', '-111.9301'), ('Saint Louis', '38.6358', '-90.2451'), ('Kansas City', '39.1239', '-94.5541'), ('Minneapolis', '44.9635', '-93.2679'), ('Detroit', '42.3834', '-83.1024'), ('Providence', '41.8229', '-71.4186'), ('Louisville', '38.1662', '-85.6488'), ('Portland', '45.5372', '-122.6500')]\n"
     ]
    }
   ],
   "source": [
    "# Load CSV\n",
    "file = open(\"cities.csv\", \"r\")\n",
    "city_strings = file.read().split(\"\\n\")[1:-1]\n",
    "city_lists = [string.split(\",\") for string in city_strings]\n",
    "city_data = [(entry[0], entry[3], entry[4]) for entry in city_lists]\n",
    "print(city_data)"
   ]
  },
  {
   "cell_type": "code",
   "execution_count": null,
   "metadata": {},
   "outputs": [],
   "source": []
  }
 ],
 "metadata": {
  "kernelspec": {
   "display_name": "Python 3",
   "language": "python",
   "name": "python3"
  },
  "language_info": {
   "codemirror_mode": {
    "name": "ipython",
    "version": 3
   },
   "file_extension": ".py",
   "mimetype": "text/x-python",
   "name": "python",
   "nbconvert_exporter": "python",
   "pygments_lexer": "ipython3",
   "version": "3.7.3"
  }
 },
 "nbformat": 4,
 "nbformat_minor": 2
}
