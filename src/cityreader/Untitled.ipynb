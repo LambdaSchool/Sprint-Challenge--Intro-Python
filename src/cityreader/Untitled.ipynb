{
 "cells": [
  {
   "cell_type": "code",
   "execution_count": 15,
   "metadata": {},
   "outputs": [],
   "source": [
    "class City():\n",
    "    def __init__(self, name, lat, lon):\n",
    "        self.name = name\n",
    "        self.lat = lat\n",
    "        self.lon = lon\n",
    "\n",
    "cities = []\n",
    "def cityreader(cities=[]):\n",
    "    import csv\n",
    "    with open('cities.csv') as c:\n",
    "        city_generator = csv.reader(c, delimiter=',')\n",
    "        next(city_generator)\n",
    "        for row in city_generator:\n",
    "            cities.append(City(row[0], row[3], row[4]))\n",
    "        return cities\n",
    "            "
   ]
  },
  {
   "cell_type": "code",
   "execution_count": 16,
   "metadata": {},
   "outputs": [
    {
     "data": {
      "text/plain": [
       "[<__main__.City at 0x10332e5d0>,\n",
       " <__main__.City at 0x10332e290>,\n",
       " <__main__.City at 0x103335a50>,\n",
       " <__main__.City at 0x10332e9d0>,\n",
       " <__main__.City at 0x103335b10>,\n",
       " <__main__.City at 0x103335750>,\n",
       " <__main__.City at 0x103336350>,\n",
       " <__main__.City at 0x103336190>,\n",
       " <__main__.City at 0x103336490>,\n",
       " <__main__.City at 0x103336550>,\n",
       " <__main__.City at 0x103336410>,\n",
       " <__main__.City at 0x1033365d0>,\n",
       " <__main__.City at 0x103336850>,\n",
       " <__main__.City at 0x103336790>,\n",
       " <__main__.City at 0x103336950>,\n",
       " <__main__.City at 0x103336a50>,\n",
       " <__main__.City at 0x103336b50>,\n",
       " <__main__.City at 0x103336c50>,\n",
       " <__main__.City at 0x103336d50>,\n",
       " <__main__.City at 0x103336e50>,\n",
       " <__main__.City at 0x103336f50>,\n",
       " <__main__.City at 0x103339090>,\n",
       " <__main__.City at 0x103339150>,\n",
       " <__main__.City at 0x103339250>,\n",
       " <__main__.City at 0x103339390>,\n",
       " <__main__.City at 0x103339490>,\n",
       " <__main__.City at 0x103339590>,\n",
       " <__main__.City at 0x103339650>,\n",
       " <__main__.City at 0x103339750>,\n",
       " <__main__.City at 0x103339850>,\n",
       " <__main__.City at 0x103339950>,\n",
       " <__main__.City at 0x103339a50>,\n",
       " <__main__.City at 0x103339b50>,\n",
       " <__main__.City at 0x103339c50>,\n",
       " <__main__.City at 0x103339d50>,\n",
       " <__main__.City at 0x103339e50>,\n",
       " <__main__.City at 0x103339f50>,\n",
       " <__main__.City at 0x10333b090>,\n",
       " <__main__.City at 0x10333b190>,\n",
       " <__main__.City at 0x10333b290>,\n",
       " <__main__.City at 0x10333b390>,\n",
       " <__main__.City at 0x10333b490>,\n",
       " <__main__.City at 0x10333b5d0>,\n",
       " <__main__.City at 0x10333b6d0>,\n",
       " <__main__.City at 0x10333b790>,\n",
       " <__main__.City at 0x10333b890>,\n",
       " <__main__.City at 0x10333b9d0>,\n",
       " <__main__.City at 0x10333bad0>,\n",
       " <__main__.City at 0x10333bbd0>,\n",
       " <__main__.City at 0x10333bc90>,\n",
       " <__main__.City at 0x10333bd90>,\n",
       " <__main__.City at 0x10333be50>,\n",
       " <__main__.City at 0x10333bf90>,\n",
       " <__main__.City at 0x10333d0d0>,\n",
       " <__main__.City at 0x10333d1d0>,\n",
       " <__main__.City at 0x10333d2d0>,\n",
       " <__main__.City at 0x10333d410>,\n",
       " <__main__.City at 0x10333d4d0>,\n",
       " <__main__.City at 0x10333d610>,\n",
       " <__main__.City at 0x10333d710>]"
      ]
     },
     "execution_count": 16,
     "metadata": {},
     "output_type": "execute_result"
    }
   ],
   "source": [
    "cityreader(cities)"
   ]
  },
  {
   "cell_type": "code",
   "execution_count": 17,
   "metadata": {},
   "outputs": [
    {
     "data": {
      "text/plain": [
       "[<__main__.City at 0x10332e5d0>,\n",
       " <__main__.City at 0x10332e290>,\n",
       " <__main__.City at 0x103335a50>,\n",
       " <__main__.City at 0x10332e9d0>,\n",
       " <__main__.City at 0x103335b10>,\n",
       " <__main__.City at 0x103335750>,\n",
       " <__main__.City at 0x103336350>,\n",
       " <__main__.City at 0x103336190>,\n",
       " <__main__.City at 0x103336490>,\n",
       " <__main__.City at 0x103336550>,\n",
       " <__main__.City at 0x103336410>,\n",
       " <__main__.City at 0x1033365d0>,\n",
       " <__main__.City at 0x103336850>,\n",
       " <__main__.City at 0x103336790>,\n",
       " <__main__.City at 0x103336950>,\n",
       " <__main__.City at 0x103336a50>,\n",
       " <__main__.City at 0x103336b50>,\n",
       " <__main__.City at 0x103336c50>,\n",
       " <__main__.City at 0x103336d50>,\n",
       " <__main__.City at 0x103336e50>,\n",
       " <__main__.City at 0x103336f50>,\n",
       " <__main__.City at 0x103339090>,\n",
       " <__main__.City at 0x103339150>,\n",
       " <__main__.City at 0x103339250>,\n",
       " <__main__.City at 0x103339390>,\n",
       " <__main__.City at 0x103339490>,\n",
       " <__main__.City at 0x103339590>,\n",
       " <__main__.City at 0x103339650>,\n",
       " <__main__.City at 0x103339750>,\n",
       " <__main__.City at 0x103339850>,\n",
       " <__main__.City at 0x103339950>,\n",
       " <__main__.City at 0x103339a50>,\n",
       " <__main__.City at 0x103339b50>,\n",
       " <__main__.City at 0x103339c50>,\n",
       " <__main__.City at 0x103339d50>,\n",
       " <__main__.City at 0x103339e50>,\n",
       " <__main__.City at 0x103339f50>,\n",
       " <__main__.City at 0x10333b090>,\n",
       " <__main__.City at 0x10333b190>,\n",
       " <__main__.City at 0x10333b290>,\n",
       " <__main__.City at 0x10333b390>,\n",
       " <__main__.City at 0x10333b490>,\n",
       " <__main__.City at 0x10333b5d0>,\n",
       " <__main__.City at 0x10333b6d0>,\n",
       " <__main__.City at 0x10333b790>,\n",
       " <__main__.City at 0x10333b890>,\n",
       " <__main__.City at 0x10333b9d0>,\n",
       " <__main__.City at 0x10333bad0>,\n",
       " <__main__.City at 0x10333bbd0>,\n",
       " <__main__.City at 0x10333bc90>,\n",
       " <__main__.City at 0x10333bd90>,\n",
       " <__main__.City at 0x10333be50>,\n",
       " <__main__.City at 0x10333bf90>,\n",
       " <__main__.City at 0x10333d0d0>,\n",
       " <__main__.City at 0x10333d1d0>,\n",
       " <__main__.City at 0x10333d2d0>,\n",
       " <__main__.City at 0x10333d410>,\n",
       " <__main__.City at 0x10333d4d0>,\n",
       " <__main__.City at 0x10333d610>,\n",
       " <__main__.City at 0x10333d710>]"
      ]
     },
     "execution_count": 17,
     "metadata": {},
     "output_type": "execute_result"
    }
   ],
   "source": [
    "cities"
   ]
  },
  {
   "cell_type": "code",
   "execution_count": null,
   "metadata": {},
   "outputs": [],
   "source": []
  }
 ],
 "metadata": {
  "kernelspec": {
   "display_name": "Python 3",
   "language": "python",
   "name": "python3"
  },
  "language_info": {
   "codemirror_mode": {
    "name": "ipython",
    "version": 3
   },
   "file_extension": ".py",
   "mimetype": "text/x-python",
   "name": "python",
   "nbconvert_exporter": "python",
   "pygments_lexer": "ipython3",
   "version": "3.7.4"
  }
 },
 "nbformat": 4,
 "nbformat_minor": 4
}
