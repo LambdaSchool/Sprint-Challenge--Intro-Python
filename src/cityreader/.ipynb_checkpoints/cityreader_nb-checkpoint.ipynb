{
 "cells": [
  {
   "cell_type": "code",
   "execution_count": 25,
   "metadata": {},
   "outputs": [],
   "source": [
    "class City():\n",
    "    def __init__(self, name, lat, lon):\n",
    "        self.name = name\n",
    "        self.lat = float(lat)\n",
    "        self.lon = float(lon)\n",
    "\n",
    "cities = []\n",
    "def cityreader(cities=[]):\n",
    "    import csv\n",
    "    with open('cities.csv') as c:\n",
    "        city_generator = csv.reader(c, delimiter=',')\n",
    "        next(city_generator)\n",
    "        for row in city_generator:\n",
    "            cities.append(City(row[0], row[3], row[4]))\n",
    "        return cities\n",
    "            "
   ]
  },
  {
   "cell_type": "code",
   "execution_count": 26,
   "metadata": {},
   "outputs": [
    {
     "data": {
      "text/plain": [
       "[<__main__.City at 0x103070a50>,\n",
       " <__main__.City at 0x103070450>,\n",
       " <__main__.City at 0x103070fd0>,\n",
       " <__main__.City at 0x103070e90>,\n",
       " <__main__.City at 0x103070550>,\n",
       " <__main__.City at 0x103070dd0>,\n",
       " <__main__.City at 0x10334a150>,\n",
       " <__main__.City at 0x103070910>,\n",
       " <__main__.City at 0x10334a550>,\n",
       " <__main__.City at 0x10334ac90>,\n",
       " <__main__.City at 0x10334a690>,\n",
       " <__main__.City at 0x10334a190>,\n",
       " <__main__.City at 0x10334a650>,\n",
       " <__main__.City at 0x10334a250>,\n",
       " <__main__.City at 0x103335f50>,\n",
       " <__main__.City at 0x1030805d0>,\n",
       " <__main__.City at 0x103080890>,\n",
       " <__main__.City at 0x1032fb950>,\n",
       " <__main__.City at 0x1030803d0>,\n",
       " <__main__.City at 0x103335c50>,\n",
       " <__main__.City at 0x1032fbcd0>,\n",
       " <__main__.City at 0x103335990>,\n",
       " <__main__.City at 0x103335610>,\n",
       " <__main__.City at 0x103335950>,\n",
       " <__main__.City at 0x103335d90>,\n",
       " <__main__.City at 0x103335e90>,\n",
       " <__main__.City at 0x103335350>,\n",
       " <__main__.City at 0x103335810>,\n",
       " <__main__.City at 0x103335a90>,\n",
       " <__main__.City at 0x103335650>,\n",
       " <__main__.City at 0x103335310>,\n",
       " <__main__.City at 0x103335450>,\n",
       " <__main__.City at 0x1033356d0>,\n",
       " <__main__.City at 0x103335150>,\n",
       " <__main__.City at 0x103335050>,\n",
       " <__main__.City at 0x103335210>,\n",
       " <__main__.City at 0x1033353d0>,\n",
       " <__main__.City at 0x10332ec90>,\n",
       " <__main__.City at 0x10332ee50>,\n",
       " <__main__.City at 0x10332e390>,\n",
       " <__main__.City at 0x10332e050>,\n",
       " <__main__.City at 0x10332eb90>,\n",
       " <__main__.City at 0x10332e790>,\n",
       " <__main__.City at 0x10332eb50>,\n",
       " <__main__.City at 0x103295350>,\n",
       " <__main__.City at 0x10332edd0>,\n",
       " <__main__.City at 0x10332e190>,\n",
       " <__main__.City at 0x10332e650>,\n",
       " <__main__.City at 0x10332e3d0>,\n",
       " <__main__.City at 0x10332ea10>,\n",
       " <__main__.City at 0x103350050>,\n",
       " <__main__.City at 0x1033500d0>,\n",
       " <__main__.City at 0x103350190>,\n",
       " <__main__.City at 0x1033501d0>,\n",
       " <__main__.City at 0x103350290>,\n",
       " <__main__.City at 0x103350310>,\n",
       " <__main__.City at 0x103350390>,\n",
       " <__main__.City at 0x103350410>,\n",
       " <__main__.City at 0x1033504d0>,\n",
       " <__main__.City at 0x1033503d0>]"
      ]
     },
     "execution_count": 26,
     "metadata": {},
     "output_type": "execute_result"
    }
   ],
   "source": [
    "cityreader(cities)"
   ]
  },
  {
   "cell_type": "code",
   "execution_count": 24,
   "metadata": {},
   "outputs": [],
   "source": [
    "# Create a class to hold a city location. Call the class \"City\". It should have\n",
    "# fields for name, lat and lon (representing latitude and longitude).\n",
    "class City():\n",
    "    def __init__(self, name, lat, lon):\n",
    "        self.name = name\n",
    "        self.lat = lat\n",
    "        self.lon = lon\n",
    "\n",
    "# We have a collection of US cities with population over 750,000 stored in the\n",
    "# file \"cities.csv\". (CSV stands for \"comma-separated values\".)\n",
    "#\n",
    "# In the body of the `cityreader` function, use Python's built-in \"csv\" module \n",
    "# to read this file so that each record is imported into a City instance. Then\n",
    "# return the list with all the City instances from the function.\n",
    "# Google \"python 3 csv\" for references and use your Google-fu for other examples.\n",
    "#\n",
    "# Store the instances in the \"cities\" list, below.\n",
    "#\n",
    "# Note that the first line of the CSV is header that describes the fields--this\n",
    "# should not be loaded into a City object.\n",
    "class City():\n",
    "    def __init__(self, name, lat, lon):\n",
    "        self.name = name\n",
    "        self.lat = float(lat)\n",
    "        self.lon = float(lon)\n",
    "\n",
    "cities = []\n",
    "def cityreader(cities=[]):\n",
    "    import csv\n",
    "    with open('cities.csv') as c:\n",
    "        city_generator = csv.reader(c, delimiter=',')\n",
    "        next(city_generator)\n",
    "        for row in city_generator:\n",
    "            cities.append(City(row[0], row[3], row[4]))\n",
    "        return cities            \n",
    "\n",
    "# Print the list of cities (name, lat, lon), 1 record per line.\n",
    "for c in cities:\n",
    "    print(c)\n",
    "\n",
    "# STRETCH GOAL!\n",
    "#\n",
    "# Allow the user to input two points, each specified by latitude and longitude.\n",
    "# These points form the corners of a lat/lon square. Pass these latitude and \n",
    "# longitude values as parameters to the `cityreader_stretch` function, along\n",
    "# with the `cities` list that holds all the City instances from the `cityreader`\n",
    "# function. This function should output all the cities that fall within the \n",
    "# coordinate square.\n",
    "#\n",
    "# Be aware that the user could specify either a lower-left/upper-right pair of\n",
    "# coordinates, or an upper-left/lower-right pair of coordinates. Hint: normalize\n",
    "# the input data so that it's always one or the other, then search for cities.\n",
    "# In the example below, inputting 32, -120 first and then 45, -100 should not\n",
    "# change the results of what the `cityreader_stretch` function returns.\n",
    "#\n",
    "# Example I/O:\n",
    "#\n",
    "# Enter lat1,lon1: 45,-100\n",
    "# Enter lat2,lon2: 32,-120\n",
    "# Albuquerque: (35.1055,-106.6476)\n",
    "# Riverside: (33.9382,-117.3949)\n",
    "# San Diego: (32.8312,-117.1225)\n",
    "# Los Angeles: (34.114,-118.4068)\n",
    "# Las Vegas: (36.2288,-115.2603)\n",
    "# Denver: (39.7621,-104.8759)\n",
    "# Phoenix: (33.5722,-112.0891)\n",
    "# Tucson: (32.1558,-110.8777)\n",
    "# Salt Lake City: (40.7774,-111.9301)\n",
    "\n",
    "# TODO Get latitude and longitude values from the user\n",
    "\n",
    "def cityreader_stretch(lat1, lon1, lat2, lon2, cities=[]):\n",
    "    # within will hold the cities that fall within the specified region\n",
    "    within = []\n",
    "    import csv\n",
    "    with open('cities.csv') as c:\n",
    "        city_generator = csv.reader(c, delimiter=',')\n",
    "        next(city_generator)\n",
    "        for row in city_generator:\n",
    "            cities.append(City(row[0], row[3], row[4]))\n",
    "    for city in cities:\n",
    "        if abs(lat1) < abs(city.lat) < abs(lat2) and abs(lon1) < abs(city.lon) < abs(lon2):\n",
    "            within.append(city)\n",
    "            \n",
    "    # TODO Ensure that the lat and lon valuse are all floats\n",
    "    # Go through each city and check to see if it falls within \n",
    "    # the specified coordinates.\n",
    "    return within "
   ]
  },
  {
   "cell_type": "code",
   "execution_count": 30,
   "metadata": {},
   "outputs": [],
   "source": [
    "cities_within = cityreader_stretch(32, -120, 45, -100, cityreader())"
   ]
  },
  {
   "cell_type": "code",
   "execution_count": 31,
   "metadata": {},
   "outputs": [
    {
     "name": "stdout",
     "output_type": "stream",
     "text": [
      "0\n"
     ]
    }
   ],
   "source": [
    "print(len(cities_within))\n",
    "for city in cities_within:\n",
    "    print(city.name)\n"
   ]
  },
  {
   "cell_type": "code",
   "execution_count": null,
   "metadata": {},
   "outputs": [],
   "source": []
  },
  {
   "cell_type": "code",
   "execution_count": 29,
   "metadata": {},
   "outputs": [
    {
     "data": {
      "text/plain": [
       "120"
      ]
     },
     "execution_count": 29,
     "metadata": {},
     "output_type": "execute_result"
    }
   ],
   "source": [
    "abs(-120)"
   ]
  },
  {
   "cell_type": "code",
   "execution_count": null,
   "metadata": {},
   "outputs": [],
   "source": []
  }
 ],
 "metadata": {
  "kernelspec": {
   "display_name": "Python 3",
   "language": "python",
   "name": "python3"
  },
  "language_info": {
   "codemirror_mode": {
    "name": "ipython",
    "version": 3
   },
   "file_extension": ".py",
   "mimetype": "text/x-python",
   "name": "python",
   "nbconvert_exporter": "python",
   "pygments_lexer": "ipython3",
   "version": "3.7.4"
  }
 },
 "nbformat": 4,
 "nbformat_minor": 4
}
